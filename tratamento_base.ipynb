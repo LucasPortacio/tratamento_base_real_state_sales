{
 "cells": [
  {
   "cell_type": "code",
   "execution_count": 64,
   "metadata": {},
   "outputs": [],
   "source": [
    "import pandas as pd\n",
    "import locale\n",
    "import datetime as dt"
   ]
  },
  {
   "cell_type": "code",
   "execution_count": 65,
   "metadata": {},
   "outputs": [
    {
     "data": {
      "text/plain": [
       "'pt_BR.UTF-8'"
      ]
     },
     "execution_count": 65,
     "metadata": {},
     "output_type": "execute_result"
    }
   ],
   "source": [
    "# Definindo a localização para o Brasil\n",
    "locale.setlocale(locale.LC_NUMERIC, 'pt_BR.UTF-8')"
   ]
  },
  {
   "cell_type": "code",
   "execution_count": 66,
   "metadata": {},
   "outputs": [
    {
     "name": "stderr",
     "output_type": "stream",
     "text": [
      "C:\\Users\\Lucas Gomes\\AppData\\Local\\Temp\\ipykernel_7276\\1792906047.py:1: DtypeWarning: Columns (8,9,10,11,12) have mixed types. Specify dtype option on import or set low_memory=False.\n",
      "  df = pd.read_csv(\"F:/Documentos/07.PYTHON/Projeto - Real Estate Sales 2001-2020/base/Real_Estate_Sales_2001-2020_GL_11_12_2023.csv\", sep=',')\n"
     ]
    },
    {
     "name": "stdout",
     "output_type": "stream",
     "text": [
      "<class 'pandas.core.frame.DataFrame'>\n",
      "RangeIndex: 997213 entries, 0 to 997212\n",
      "Data columns (total 14 columns):\n",
      " #   Column            Non-Null Count   Dtype  \n",
      "---  ------            --------------   -----  \n",
      " 0   Serial Number     997213 non-null  int64  \n",
      " 1   List Year         997213 non-null  int64  \n",
      " 2   Date Recorded     997211 non-null  object \n",
      " 3   Town              997213 non-null  object \n",
      " 4   Address           997162 non-null  object \n",
      " 5   Assessed Value    997213 non-null  float64\n",
      " 6   Sale Amount       997213 non-null  float64\n",
      " 7   Sales Ratio       997213 non-null  float64\n",
      " 8   Property Type     614767 non-null  object \n",
      " 9   Residential Type  608904 non-null  object \n",
      " 10  Non Use Code      289681 non-null  object \n",
      " 11  Assessor Remarks  149864 non-null  object \n",
      " 12  OPM remarks       9934 non-null    object \n",
      " 13  Location          197697 non-null  object \n",
      "dtypes: float64(3), int64(2), object(9)\n",
      "memory usage: 106.5+ MB\n"
     ]
    }
   ],
   "source": [
    "df = pd.read_csv(\"F:/Documentos/07.PYTHON/Projeto - Real Estate Sales 2001-2020/base/Real_Estate_Sales_2001-2020_GL_11_12_2023.csv\", sep=',')\n",
    "\n",
    "df.info()"
   ]
  },
  {
   "cell_type": "code",
   "execution_count": 67,
   "metadata": {},
   "outputs": [],
   "source": [
    "df_ok = df[['Date Recorded','Town','Address','Assessed Value','Sale Amount','Sales Ratio','Property Type','Residential Type']]"
   ]
  },
  {
   "cell_type": "code",
   "execution_count": 68,
   "metadata": {},
   "outputs": [],
   "source": [
    "# Função para formatar número para o formato brasileiro\n",
    "def format_brazilian(value):\n",
    "    return f'{value:,.2f}'.replace('.', '*').replace(',', '.').replace('*', ',')"
   ]
  },
  {
   "cell_type": "code",
   "execution_count": 69,
   "metadata": {},
   "outputs": [
    {
     "name": "stderr",
     "output_type": "stream",
     "text": [
      "C:\\Users\\Lucas Gomes\\AppData\\Local\\Temp\\ipykernel_7276\\2518229786.py:6: SettingWithCopyWarning: \n",
      "A value is trying to be set on a copy of a slice from a DataFrame.\n",
      "Try using .loc[row_indexer,col_indexer] = value instead\n",
      "\n",
      "See the caveats in the documentation: https://pandas.pydata.org/pandas-docs/stable/user_guide/indexing.html#returning-a-view-versus-a-copy\n",
      "  df_ok[coluna] = df_ok[coluna].apply(format_brazilian)\n"
     ]
    }
   ],
   "source": [
    "# Lista das colunas que você deseja formatar\n",
    "colunas_para_formatar = ['Assessed Value', 'Sale Amount', 'Sales Ratio']\n",
    "\n",
    "# Aplicar a formatação brasileira em cada uma das colunas especificadas\n",
    "for coluna in colunas_para_formatar:\n",
    "    df_ok[coluna] = df_ok[coluna].apply(format_brazilian)"
   ]
  },
  {
   "cell_type": "code",
   "execution_count": 70,
   "metadata": {},
   "outputs": [
    {
     "data": {
      "text/html": [
       "<div>\n",
       "<style scoped>\n",
       "    .dataframe tbody tr th:only-of-type {\n",
       "        vertical-align: middle;\n",
       "    }\n",
       "\n",
       "    .dataframe tbody tr th {\n",
       "        vertical-align: top;\n",
       "    }\n",
       "\n",
       "    .dataframe thead th {\n",
       "        text-align: right;\n",
       "    }\n",
       "</style>\n",
       "<table border=\"1\" class=\"dataframe\">\n",
       "  <thead>\n",
       "    <tr style=\"text-align: right;\">\n",
       "      <th></th>\n",
       "      <th>Date Recorded</th>\n",
       "      <th>Town</th>\n",
       "      <th>Address</th>\n",
       "      <th>Assessed Value</th>\n",
       "      <th>Sale Amount</th>\n",
       "      <th>Sales Ratio</th>\n",
       "      <th>Property Type</th>\n",
       "      <th>Residential Type</th>\n",
       "    </tr>\n",
       "  </thead>\n",
       "  <tbody>\n",
       "    <tr>\n",
       "      <th>0</th>\n",
       "      <td>04/14/2021</td>\n",
       "      <td>Ansonia</td>\n",
       "      <td>323 BEAVER ST</td>\n",
       "      <td>133.000,00</td>\n",
       "      <td>248.400,00</td>\n",
       "      <td>0,54</td>\n",
       "      <td>Residential</td>\n",
       "      <td>Single Family</td>\n",
       "    </tr>\n",
       "    <tr>\n",
       "      <th>1</th>\n",
       "      <td>05/26/2021</td>\n",
       "      <td>Ansonia</td>\n",
       "      <td>152 JACKSON ST</td>\n",
       "      <td>110.500,00</td>\n",
       "      <td>239.900,00</td>\n",
       "      <td>0,46</td>\n",
       "      <td>Residential</td>\n",
       "      <td>Three Family</td>\n",
       "    </tr>\n",
       "    <tr>\n",
       "      <th>2</th>\n",
       "      <td>09/13/2021</td>\n",
       "      <td>Ansonia</td>\n",
       "      <td>230 WAKELEE AVE</td>\n",
       "      <td>150.500,00</td>\n",
       "      <td>325.000,00</td>\n",
       "      <td>0,46</td>\n",
       "      <td>Commercial</td>\n",
       "      <td>NaN</td>\n",
       "    </tr>\n",
       "    <tr>\n",
       "      <th>3</th>\n",
       "      <td>12/14/2020</td>\n",
       "      <td>Ansonia</td>\n",
       "      <td>57 PLATT ST</td>\n",
       "      <td>127.400,00</td>\n",
       "      <td>202.500,00</td>\n",
       "      <td>0,63</td>\n",
       "      <td>Residential</td>\n",
       "      <td>Two Family</td>\n",
       "    </tr>\n",
       "    <tr>\n",
       "      <th>4</th>\n",
       "      <td>09/07/2021</td>\n",
       "      <td>Avon</td>\n",
       "      <td>245 NEW ROAD</td>\n",
       "      <td>217.640,00</td>\n",
       "      <td>400.000,00</td>\n",
       "      <td>0,54</td>\n",
       "      <td>Residential</td>\n",
       "      <td>Single Family</td>\n",
       "    </tr>\n",
       "  </tbody>\n",
       "</table>\n",
       "</div>"
      ],
      "text/plain": [
       "  Date Recorded     Town          Address Assessed Value Sale Amount  \\\n",
       "0    04/14/2021  Ansonia    323 BEAVER ST     133.000,00  248.400,00   \n",
       "1    05/26/2021  Ansonia   152 JACKSON ST     110.500,00  239.900,00   \n",
       "2    09/13/2021  Ansonia  230 WAKELEE AVE     150.500,00  325.000,00   \n",
       "3    12/14/2020  Ansonia      57 PLATT ST     127.400,00  202.500,00   \n",
       "4    09/07/2021     Avon     245 NEW ROAD     217.640,00  400.000,00   \n",
       "\n",
       "  Sales Ratio Property Type Residential Type  \n",
       "0        0,54   Residential    Single Family  \n",
       "1        0,46   Residential     Three Family  \n",
       "2        0,46    Commercial              NaN  \n",
       "3        0,63   Residential       Two Family  \n",
       "4        0,54   Residential    Single Family  "
      ]
     },
     "execution_count": 70,
     "metadata": {},
     "output_type": "execute_result"
    }
   ],
   "source": [
    "df_ok.head()"
   ]
  },
  {
   "cell_type": "code",
   "execution_count": 71,
   "metadata": {},
   "outputs": [
    {
     "data": {
      "text/plain": [
       "'F:/Documentos/07.PYTHON/Projeto - Real Estate Sales 2001-2020/base_final/Base_real_state_final_20122023.csv'"
      ]
     },
     "execution_count": 71,
     "metadata": {},
     "output_type": "execute_result"
    }
   ],
   "source": [
    "local = 'F:/Documentos/07.PYTHON/Projeto - Real Estate Sales 2001-2020/base_final'\n",
    "nome = '/Base_real_state_final_'\n",
    "data = dt.datetime.today()\n",
    "data_format = data.strftime('%d%m%Y')\n",
    "extensao = '.csv'\n",
    "\n",
    "caminho = (f'{local}{nome}{data_format}{extensao}')\n",
    "\n",
    "caminho"
   ]
  },
  {
   "cell_type": "code",
   "execution_count": 72,
   "metadata": {},
   "outputs": [],
   "source": [
    "df_ok.to_csv(f'{local}{nome}{data_format}{extensao}', sep=\";\", index=False)"
   ]
  }
 ],
 "metadata": {
  "interpreter": {
   "hash": "713144d2bbbede84a1da11c85bed8fc4e42675ca1a53431544ec4ad4bc9f036f"
  },
  "kernelspec": {
   "display_name": "Python 3.11.4 64-bit",
   "language": "python",
   "name": "python3"
  },
  "language_info": {
   "codemirror_mode": {
    "name": "ipython",
    "version": 3
   },
   "file_extension": ".py",
   "mimetype": "text/x-python",
   "name": "python",
   "nbconvert_exporter": "python",
   "pygments_lexer": "ipython3",
   "version": "3.11.4"
  },
  "orig_nbformat": 4
 },
 "nbformat": 4,
 "nbformat_minor": 2
}
