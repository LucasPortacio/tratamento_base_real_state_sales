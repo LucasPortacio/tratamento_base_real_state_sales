{
 "cells": [
  {
   "cell_type": "code",
   "execution_count": 43,
   "metadata": {},
   "outputs": [],
   "source": [
    "from selenium import webdriver\n",
    "from webdriver_manager.chrome import ChromeDriverManager\n",
    "from selenium.webdriver.common.by import By\n",
    "from selenium.webdriver.chrome.service import Service\n",
    "import datetime\n",
    "import time\n",
    "import shutil\n",
    "import os"
   ]
  },
  {
   "cell_type": "code",
   "execution_count": 44,
   "metadata": {},
   "outputs": [],
   "source": [
    "# Instalando o ChromeDriver de forma automática\n",
    "\n",
    "servico = Service(ChromeDriverManager().install())"
   ]
  },
  {
   "cell_type": "code",
   "execution_count": 45,
   "metadata": {},
   "outputs": [],
   "source": [
    "# Configuração headless\n",
    "\n",
    "options = webdriver.ChromeOptions()\n",
    "options.add_argument('--headless=new')\n",
    "navegador = webdriver.Chrome(options=options, service=servico)"
   ]
  },
  {
   "cell_type": "code",
   "execution_count": 46,
   "metadata": {},
   "outputs": [],
   "source": [
    "# Abrir o site\n",
    "navegador.get(\"https://catalog.data.gov/dataset/real-estate-sales-2001-2018\")\n",
    "\n",
    "time.sleep(3)"
   ]
  },
  {
   "cell_type": "code",
   "execution_count": 47,
   "metadata": {},
   "outputs": [],
   "source": [
    "# Dowload\n",
    "dowload = navegador.find_element(By.XPATH, '/html/body/div[2]/div/div[2]/div/article/section[3]/ul/li[1]/div/a')\n",
    "dowload.click()\n",
    "\n",
    "time.sleep(60)"
   ]
  },
  {
   "cell_type": "code",
   "execution_count": 48,
   "metadata": {},
   "outputs": [],
   "source": [
    "# Especifique o caminho dowloads\n",
    "pasta_download = \"C:/Users/Lucas Gomes/Downloads/\""
   ]
  },
  {
   "cell_type": "code",
   "execution_count": 49,
   "metadata": {},
   "outputs": [],
   "source": [
    "# Especifique o caminho completo para a pasta de destino\n",
    "pasta_destino = \"F:/Documentos/07.PYTHON/Projeto - Real Estate Sales 2001-2020/base/\""
   ]
  },
  {
   "cell_type": "code",
   "execution_count": 50,
   "metadata": {},
   "outputs": [],
   "source": [
    "# Obtenha o nome do arquivo baixado (pode variar)\n",
    "\n",
    "previa_arquivo = \"Real_Estate_Sales_2001-2020_GL\"\n",
    "data = datetime.datetime.today() \n",
    "data_arquivo = data.strftime('_%d_%m_%Y')\n",
    "extensao = \".csv\""
   ]
  },
  {
   "cell_type": "code",
   "execution_count": 51,
   "metadata": {},
   "outputs": [],
   "source": [
    "# Renomeando arquivo\n",
    "\n",
    "nome_arquivo = (f'{pasta_download}{previa_arquivo}{extensao}')\n",
    "novo_nome = (f'{pasta_download}{previa_arquivo}{data_arquivo}{extensao}')\n",
    "\n",
    "os.rename(nome_arquivo, novo_nome)"
   ]
  },
  {
   "cell_type": "code",
   "execution_count": 52,
   "metadata": {},
   "outputs": [],
   "source": [
    "# Combine os caminhos completos dos arquivos\n",
    "\n",
    "novo_nome = (f'{previa_arquivo}{data_arquivo}{extensao}')\n",
    "\n",
    "\n",
    "caminho_arquivo_origem = pasta_download + novo_nome\n",
    "caminho_arquivo_destino = pasta_destino + novo_nome"
   ]
  },
  {
   "cell_type": "code",
   "execution_count": 53,
   "metadata": {},
   "outputs": [
    {
     "data": {
      "text/plain": [
       "'F:/Documentos/07.PYTHON/Projeto - Real Estate Sales 2001-2020/base/Real_Estate_Sales_2001-2020_GL_11_12_2023.csv'"
      ]
     },
     "execution_count": 53,
     "metadata": {},
     "output_type": "execute_result"
    }
   ],
   "source": [
    "# Mova o arquivo para a pasta de destino\n",
    "shutil.move(caminho_arquivo_origem, caminho_arquivo_destino)"
   ]
  },
  {
   "cell_type": "code",
   "execution_count": 54,
   "metadata": {},
   "outputs": [],
   "source": [
    "# Fechar o navegador\n",
    "navegador.quit()"
   ]
  }
 ],
 "metadata": {
  "interpreter": {
   "hash": "713144d2bbbede84a1da11c85bed8fc4e42675ca1a53431544ec4ad4bc9f036f"
  },
  "kernelspec": {
   "display_name": "Python 3.11.4 64-bit",
   "language": "python",
   "name": "python3"
  },
  "language_info": {
   "codemirror_mode": {
    "name": "ipython",
    "version": 3
   },
   "file_extension": ".py",
   "mimetype": "text/x-python",
   "name": "python",
   "nbconvert_exporter": "python",
   "pygments_lexer": "ipython3",
   "version": "3.11.4"
  },
  "orig_nbformat": 4
 },
 "nbformat": 4,
 "nbformat_minor": 2
}
